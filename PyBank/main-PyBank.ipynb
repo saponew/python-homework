{
 "cells": [
  {
   "cell_type": "code",
   "execution_count": 80,
   "metadata": {},
   "outputs": [],
   "source": [
    "#Import libraries\n",
    "import csv\n",
    "import os\n",
    "import pandas as pd"
   ]
  },
  {
   "cell_type": "code",
   "execution_count": 81,
   "metadata": {},
   "outputs": [],
   "source": [
    "#grab file\n",
    "data = os.path.join ('..', 'PyBank', 'budget_data.csv')"
   ]
  },
  {
   "cell_type": "code",
   "execution_count": 82,
   "metadata": {},
   "outputs": [],
   "source": [
    "#create lists to be utilized with the data\n",
    "months = []\n",
    "pnl_month = []"
   ]
  },
  {
   "cell_type": "code",
   "execution_count": 83,
   "metadata": {},
   "outputs": [],
   "source": [
    "#open and read the file, append months to months and pnl to correspond with each month in the pnl_month list\n",
    "with open(data, newline = '') as csvdata:\n",
    "    \n",
    "    readdata = csv.reader(csvdata, delimiter = ',')\n",
    "    header = next(readdata)\n",
    "    for row in readdata:\n",
    "        months.append(str(row[0]))\n",
    "        pnl_month.append(float(row[1]))"
   ]
  },
  {
   "cell_type": "code",
   "execution_count": 84,
   "metadata": {},
   "outputs": [],
   "source": [
    "    #pull the number of months in the analysis \n",
    "    tot_months = int(len(months))\n",
    "    #total the pnl\n",
    "    total = sum(pnl_month)"
   ]
  },
  {
   "cell_type": "code",
   "execution_count": 85,
   "metadata": {},
   "outputs": [],
   "source": [
    "    #generate loop variables \n",
    "    i = 1\n",
    "    j = 0"
   ]
  },
  {
   "cell_type": "code",
   "execution_count": 86,
   "metadata": {},
   "outputs": [],
   "source": [
    "    #calculate average change\n",
    "    avg_change = (pnl_month[1]) - int(pnl_month[0])"
   ]
  },
  {
   "cell_type": "code",
   "execution_count": 87,
   "metadata": {},
   "outputs": [],
   "source": [
    "#create list for Month to month changes in pnl\n",
    "mom_changes = []"
   ]
  },
  {
   "cell_type": "code",
   "execution_count": 88,
   "metadata": {},
   "outputs": [],
   "source": [
    "#calc month to month change and append to mom change list\n",
    "for month in range(tot_months-1):\n",
    "    avg_change = (pnl_month[i] - pnl_month[j])\n",
    "    mom_changes.append(int(avg_change))\n",
    "    i+=1\n",
    "    j+=1"
   ]
  },
  {
   "cell_type": "code",
   "execution_count": 89,
   "metadata": {},
   "outputs": [],
   "source": [
    "#calc avg monthly change and round \n",
    "monthly_avg_change = round(sum(mom_changes)/(tot_months -1),2)"
   ]
  },
  {
   "cell_type": "code",
   "execution_count": 90,
   "metadata": {},
   "outputs": [],
   "source": [
    "#min and max mom pnl change\n",
    "min_mom_change = min(mom_changes)\n",
    "max_mom_change = max(mom_changes)"
   ]
  },
  {
   "cell_type": "code",
   "execution_count": 91,
   "metadata": {},
   "outputs": [],
   "source": [
    "#find position in list for min and max change months with index\n",
    "min_index_month = mom_changes.index(min_mom_change)\n",
    "max_index_month = mom_changes.index(max_mom_change)"
   ]
  },
  {
   "cell_type": "code",
   "execution_count": 92,
   "metadata": {},
   "outputs": [],
   "source": [
    "#match the months to the positions \n",
    "min_change_date = months[min_index_month + 1]\n",
    "max_change_date = months[max_index_month + 1]"
   ]
  },
  {
   "cell_type": "code",
   "execution_count": 93,
   "metadata": {},
   "outputs": [
    {
     "name": "stdout",
     "output_type": "stream",
     "text": [
      "Financial Analysis\n",
      "-------------------------------\n",
      "Months: 86\n",
      "Total: $38382578.0\n",
      "Average Monthly change: $-2315.12\n",
      "Greatest Increase in Profits: Feb-12 ($1926159)\n",
      "Greatest Decrease in Profits: Sep-13 ($-2196167)\n"
     ]
    }
   ],
   "source": [
    "#print results in console\n",
    "\n",
    "print(f'Financial Analysis')\n",
    "print(f'-------------------------------')\n",
    "print(f'Months: {tot_months}')\n",
    "print(f'Total: ${total}')\n",
    "print(f'Average Monthly change: ${monthly_avg_change}')\n",
    "print(f'Greatest Increase in Profits: {max_change_date} (${max_mom_change})')\n",
    "print(f'Greatest Decrease in Profits: {min_change_date} (${min_mom_change})')\n",
    "\n",
    "#send output to text file \n",
    "fin_analysis = open(\"Financial_Analysis.txt\",\"w\")\n",
    "\n",
    "fin_analysis.write(\"Financial Analysis\\n\")\n",
    "fin_analysis.write(\"--------------------------------\\n\")\n",
    "fin_analysis.write(f\"Months: {tot_months}\\n\")\n",
    "fin_analysis.write(f\"Total: ${total}\\n\")\n",
    "fin_analysis.write(f\"Average Monthly change: ${monthly_avg_change}\\n\")\n",
    "fin_analysis.write(f\"Greatest Increase in Profits: {max_change_date} (${max_mom_change})\\n\")\n",
    "fin_analysis.write(f\"Greatest Decrease in Profits: {min_change_date} (${min_mom_change})\\n\")\n",
    "\n",
    "fin_analysis.close()"
   ]
  },
  {
   "cell_type": "code",
   "execution_count": null,
   "metadata": {},
   "outputs": [],
   "source": []
  }
 ],
 "metadata": {
  "kernelspec": {
   "display_name": "Python 3",
   "language": "python",
   "name": "python3"
  },
  "language_info": {
   "codemirror_mode": {
    "name": "ipython",
    "version": 3
   },
   "file_extension": ".py",
   "mimetype": "text/x-python",
   "name": "python",
   "nbconvert_exporter": "python",
   "pygments_lexer": "ipython3",
   "version": "3.8.3"
  }
 },
 "nbformat": 4,
 "nbformat_minor": 4
}
